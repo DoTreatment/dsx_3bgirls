{
  "cells": [
    {
      "cell_type": "markdown",
      "metadata": {
        "id": "view-in-github",
        "colab_type": "text"
      },
      "source": [
        "<a href=\"https://colab.research.google.com/github/DoTreatment/dsx_3bgirls/blob/main/Untitled1.ipynb\" target=\"_parent\"><img src=\"https://colab.research.google.com/assets/colab-badge.svg\" alt=\"Open In Colab\"/></a>"
      ]
    },
    {
      "cell_type": "code",
      "execution_count": null,
      "id": "eb30d588",
      "metadata": {
        "id": "eb30d588",
        "outputId": "a84225f6-27d8-41c3-fc26-0015211cf0e0",
        "colab": {
          "base_uri": "https://localhost:8080/"
        }
      },
      "outputs": [
        {
          "output_type": "stream",
          "name": "stdout",
          "text": [
            "                                                 Pet's Full Name (you don't have to include your last name. Think \"Winston Churchill\" and not \"Winston Churchill MYLASTNAME\")  \\\n",
            "What kind of pet is this (Dog, Cat, Bird, Other)                                                                                                                                \n",
            "Dog                                                                                          Widget                                                                             \n",
            "Dog                                                                                 Stella Bo Bella                                                                             \n",
            "Cat                                                                                    Meryl Streep                                                                             \n",
            "Dog                                                                                           Tilly                                                                             \n",
            "Cat                                                                                         Pumpkin                                                                             \n",
            "...                                                                                             ...                                                                             \n",
            "Dog                                                                                            Koli                                                                             \n",
            "Dog                                                                               Moxie Jean Narice                                                                             \n",
            "Dog                                                                                    Dancer Pants                                                                             \n",
            "Cat                                                          Kitty or The Cat (if she's being bad)                                                                              \n",
            "Fish                                                                                      Blueberry                                                                             \n",
            "\n",
            "                                                 Pet's everyday name (e.g. \"Church\")  \\\n",
            "What kind of pet is this (Dog, Cat, Bird, Other)                                       \n",
            "Dog                                                                           Widget   \n",
            "Dog                                                                           Stella   \n",
            "Cat                                                                          Merrill   \n",
            "Dog                                                                            Tills   \n",
            "Cat                                                                          Pumpkin   \n",
            "...                                                                              ...   \n",
            "Dog                                                                             Koli   \n",
            "Dog                                                                            Moxie   \n",
            "Dog                                                                           Dancer   \n",
            "Cat                                                                            Kitty   \n",
            "Fish                                                                            Blue   \n",
            "\n",
            "                                                  Pet's age  \\\n",
            "What kind of pet is this (Dog, Cat, Bird, Other)              \n",
            "Dog                                                       5   \n",
            "Dog                                                     6.5   \n",
            "Cat                                                       8   \n",
            "Dog                                                      13   \n",
            "Cat                                                      12   \n",
            "...                                                     ...   \n",
            "Dog                                                      11   \n",
            "Dog                                                       1   \n",
            "Dog                                                      17   \n",
            "Cat                                                       1   \n",
            "Fish                                              6 months    \n",
            "\n",
            "                                                       Pet's breed (if applicable)  \n",
            "What kind of pet is this (Dog, Cat, Bird, Other)                                    \n",
            "Dog                                                                 Mini dachshund  \n",
            "Dog                                                                           mutt  \n",
            "Cat                                                                            NaN  \n",
            "Dog                                                             Chocolate Labrador  \n",
            "Cat                                                                            NaN  \n",
            "...                                                                            ...  \n",
            "Dog                                               Yorker Terrier/Silky Terrier Mix  \n",
            "Dog                                                            German Shepherd mix  \n",
            "Dog                                                                      Havanese   \n",
            "Cat                                                                            NaN  \n",
            "Fish                                                                    Beta Fish   \n",
            "\n",
            "[1784 rows x 4 columns]\n"
          ]
        }
      ],
      "source": [
        "#ライブラリ\n",
        "import pandas as pd\n",
        "\n",
        "#ファイル読み込み\n",
        "pet_info = pd.read_csv('PetNames.tsv', index_col=0, sep='\\t')\n",
        "print(pet_info)\n"
      ]
    },
    {
      "cell_type": "code",
      "source": [],
      "metadata": {
        "id": "uacKqjz2eK9l"
      },
      "id": "uacKqjz2eK9l",
      "execution_count": null,
      "outputs": []
    },
    {
      "cell_type": "code",
      "source": [],
      "metadata": {
        "id": "18bVoLtOdY6K"
      },
      "id": "18bVoLtOdY6K",
      "execution_count": null,
      "outputs": []
    }
  ],
  "metadata": {
    "kernelspec": {
      "display_name": "Python 3 (ipykernel)",
      "language": "python",
      "name": "python3"
    },
    "language_info": {
      "codemirror_mode": {
        "name": "ipython",
        "version": 3
      },
      "file_extension": ".py",
      "mimetype": "text/x-python",
      "name": "python",
      "nbconvert_exporter": "python",
      "pygments_lexer": "ipython3",
      "version": "3.11.4"
    },
    "colab": {
      "provenance": [],
      "include_colab_link": true
    }
  },
  "nbformat": 4,
  "nbformat_minor": 5
}